{
 "cells": [
  {
   "cell_type": "code",
   "execution_count": 2,
   "metadata": {},
   "outputs": [],
   "source": [
    "#HW Option #1 Py-Bank\n",
    "\n",
    "\n",
    "#Define variables\n",
    "rev_last_month = 0.0\n",
    "rev_increase = 0.0\n",
    "month_increase = \"\"\n",
    "rev_decrease = 0.0\n",
    "month_decrease = \"\"\n",
    "month = True\n",
    "total_revenue = 0.0\n",
    "total_months = 0\n",
    "diff_revenue = 0"
   ]
  },
  {
   "cell_type": "code",
   "execution_count": null,
   "metadata": {},
   "outputs": [],
   "source": [
    "#first import all the packages to read in the csv\n",
    "import os \n",
    "import csv"
   ]
  },
  {
   "cell_type": "code",
   "execution_count": null,
   "metadata": {},
   "outputs": [],
   "source": [
    "#Define the path to the file\n",
    "path= os.path.join(\"bank.csv\")"
   ]
  },
  {
   "cell_type": "code",
   "execution_count": null,
   "metadata": {},
   "outputs": [],
   "source": [
    "#read in the csv\n",
    "with open(path) as csvfile:\n",
    "    reader = csv.reader(csvfile)"
   ]
  },
  {
   "cell_type": "code",
   "execution_count": null,
   "metadata": {},
   "outputs": [],
   "source": [
    "#skip the header because they are just titles\n",
    "    next(reader)\n",
    "\n",
    "#loop through each row of each column\n",
    "    for row in reader:\n",
    "        date = row[1]\n",
    "        rev_by_month = float(row[1])\n"
   ]
  },
  {
   "cell_type": "code",
   "execution_count": null,
   "metadata": {},
   "outputs": [],
   "source": [
    "#Define Calculations:\n",
    "#find average and printing out results\n",
    "#find the total revenue\n",
    "#find greatest incease in revenue and greated decrease in revenue\n",
    "#find the total number of months\n",
    "\n",
    "#start calculating from the second row\n",
    "        if month == True:\n",
    "            rev_last_month = rev_by_month\n",
    "            differnce_revenue = 0\n",
    "            month = False\n",
    "    \n",
    "        else:\n",
    "            differnce_revenue = rev_by_month - rev_last_month\n",
    "            diff_revenue.append(differnce_revenue)\n",
    "            rev_last_month = rev_by_month"
   ]
  },
  {
   "cell_type": "code",
   "execution_count": null,
   "metadata": {},
   "outputs": [],
   "source": [
    "# Count of the number of months\n",
    "            total_months += 1\n",
    "# Keep track of total sales\n",
    "            total_revenue = total_revenue + rev_by_month\n",
    "\n",
    "        if differnce_revenue > rev_increase :\n",
    "            rev_increase = differnce_revenue\n",
    "            month_increase = date\n",
    "    \n",
    "        if differnce_revenue < rev_decrease:\n",
    "            rev_decrease = differnce_revenue\n",
    "            month_decrease = date\n",
    "\n",
    "\n",
    "\n",
    "line = ('.' * 40)\n"
   ]
  },
  {
   "cell_type": "code",
   "execution_count": null,
   "metadata": {},
   "outputs": [],
   "source": [
    "\n",
    "#Consolidate the results so it can be printed together\n",
    "results = (\n",
    "        f' Financial Analysis\\n \\\n",
    "        {line}\\n \\\n",
    "        Total Months: {total_months}\\n \\\n",
    "        Total Revenue: ${total_revenue}\\n \\\n",
    "        Average Revenue change: $a{sum(diff_revenue) / len(diff_revenue)}\\n \\\n",
    "        Greatest Decrease in Revenue:{month_decrease} (${rev_decrease})\\n \\\n",
    "        Greatest Increase in Revenue: {month_increase} (${rev_increase})\\n' )\n",
    "\n"
   ]
  },
  {
   "cell_type": "code",
   "execution_count": null,
   "metadata": {},
   "outputs": [],
   "source": [
    "#print the results\n",
    "print(results)\n",
    "\n"
   ]
  },
  {
   "cell_type": "code",
   "execution_count": null,
   "metadata": {},
   "outputs": [],
   "source": [
    "#open a new file with the results\n",
    "with open(\"pybankresults.txt\", 'w') as outputFile:\n",
    "    outputFile.write(results)\n"
   ]
  }
 ],
 "metadata": {
  "kernelspec": {
   "display_name": "Python [conda env:PythonData1]",
   "language": "python",
   "name": "conda-env-PythonData1-py"
  },
  "language_info": {
   "codemirror_mode": {
    "name": "ipython",
    "version": 3
   },
   "file_extension": ".py",
   "mimetype": "text/x-python",
   "name": "python",
   "nbconvert_exporter": "python",
   "pygments_lexer": "ipython3",
   "version": "3.6.4"
  }
 },
 "nbformat": 4,
 "nbformat_minor": 2
}
